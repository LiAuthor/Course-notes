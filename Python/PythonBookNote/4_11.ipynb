{
 "cells": [
  {
   "cell_type": "code",
   "execution_count": 3,
   "id": "juvenile-deviation",
   "metadata": {},
   "outputs": [
    {
     "name": "stdout",
     "output_type": "stream",
     "text": [
      "Li Junkui\n",
      "LI JUNKUI\n",
      "li junkui\n"
     ]
    }
   ],
   "source": [
    "name=\"li junkui\"\n",
    "print(name.title())\n",
    "# 方法  .title()  首字母大写呈现单词\n",
    "name=\"Li Junkui\"\n",
    "print(name.upper())\n",
    "print(name.lower())"
   ]
  },
  {
   "cell_type": "code",
   "execution_count": 5,
   "id": "super-fields",
   "metadata": {},
   "outputs": [
    {
     "name": "stdout",
     "output_type": "stream",
     "text": [
      "li junkui\n"
     ]
    }
   ],
   "source": [
    "first_name=\"li\"\n",
    "last_name=\"junkui\"\n",
    "full_name=first_name+' '+last_name\n",
    "print(full_name)"
   ]
  },
  {
   "cell_type": "code",
   "execution_count": 8,
   "id": "italic-cover",
   "metadata": {},
   "outputs": [
    {
     "name": "stdout",
     "output_type": "stream",
     "text": [
      "Hello Li Junkui!\n"
     ]
    }
   ],
   "source": [
    "print(\"Hello\"+\" \"+full_name.title()+\"!\")"
   ]
  },
  {
   "cell_type": "code",
   "execution_count": 10,
   "id": "biological-microphone",
   "metadata": {},
   "outputs": [
    {
     "name": "stdout",
     "output_type": "stream",
     "text": [
      "Languages:\n",
      "\tPython\n",
      "\tc++\n",
      "\tjava\n"
     ]
    }
   ],
   "source": [
    "# 制表符/t 换行符/n\n",
    "print(\"Languages:\\n\\tPython\\n\\tc++\\n\\tjava\")"
   ]
  },
  {
   "cell_type": "code",
   "execution_count": 13,
   "id": "romantic-neighborhood",
   "metadata": {},
   "outputs": [
    {
     "name": "stdout",
     "output_type": "stream",
     "text": [
      " python\n",
      "python \n",
      "python\n",
      " python \n"
     ]
    }
   ],
   "source": [
    "#剔除空白字符\n",
    "favorite_language=' python '\n",
    "print(favorite_language.rstrip())#末尾剔除\n",
    "print(favorite_language.lstrip())#开头剔除\n",
    "print(favorite_language.strip())#两端剔除\n",
    "print(favorite_language)#初值不变"
   ]
  },
  {
   "cell_type": "code",
   "execution_count": 3,
   "id": "following-cannon",
   "metadata": {},
   "outputs": [
    {
     "name": "stdout",
     "output_type": "stream",
     "text": [
      "1\n",
      "1.5\n",
      "9\n"
     ]
    }
   ],
   "source": [
    "print(3//2)\n",
    "print(3/2)\n",
    "print(3**2)"
   ]
  },
  {
   "cell_type": "code",
   "execution_count": 5,
   "id": "wrapped-tract",
   "metadata": {},
   "outputs": [
    {
     "name": "stdout",
     "output_type": "stream",
     "text": [
      "0.30000000000000004\n"
     ]
    }
   ],
   "source": [
    "print(0.2+0.1)"
   ]
  },
  {
   "cell_type": "code",
   "execution_count": 11,
   "id": "overall-chess",
   "metadata": {},
   "outputs": [
    {
     "name": "stdout",
     "output_type": "stream",
     "text": [
      "The age is 23, is a boy\n"
     ]
    }
   ],
   "source": [
    "age=23\n",
    "sex=\"boy\"\n",
    "print(\"The age is %d, is a %s\" % (age,sex))"
   ]
  },
  {
   "cell_type": "markdown",
   "id": "chinese-employment",
   "metadata": {},
   "source": [
    "## 4_12"
   ]
  },
  {
   "cell_type": "code",
   "execution_count": 16,
   "id": "maritime-sensitivity",
   "metadata": {},
   "outputs": [
    {
     "name": "stdout",
     "output_type": "stream",
     "text": [
      "['cat', 'dog', 'yazi', 'mianyang', 'xiaozhu']\n",
      "['cat', 'dog', 'yazi', 'mianyang', 'xiaozhu', ['daxaing', 'laohu']]\n",
      "['cat', 'dog', 'yazi', 'mianyang', 'daxaing', 'laohu']\n"
     ]
    }
   ],
   "source": [
    "# add list\n",
    "animals=[\"cat\",\"dog\",\"yazi\",\"mianyang\"]\n",
    "animals.append(\"xiaozhu\")\n",
    "print(animals)\n",
    "others=[\"daxaing\",\"laohu\"]\n",
    "animals.append(others)#整体直接加入\n",
    "print(animals)\n",
    "animals=[\"cat\",\"dog\",\"yazi\",\"mianyang\"]\n",
    "animals.extend(others)#取出元素分别加入\n",
    "print(animals)"
   ]
  },
  {
   "cell_type": "code",
   "execution_count": 21,
   "id": "golden-audit",
   "metadata": {},
   "outputs": [
    {
     "name": "stdout",
     "output_type": "stream",
     "text": [
      "['cat', 'dog', 'test', 'yazi', 'mianyang']\n"
     ]
    }
   ],
   "source": [
    "# use insert\n",
    "animals=[\"cat\",\"dog\",\"yazi\",\"mianyang\"]\n",
    "animals.insert(2,\"test\") # Insert the value before the original 2 position\n",
    "print(animals)"
   ]
  },
  {
   "cell_type": "code",
   "execution_count": 18,
   "id": "relative-fifty",
   "metadata": {},
   "outputs": [
    {
     "name": "stdout",
     "output_type": "stream",
     "text": [
      "['cat', 'yazi', 'mianyang']\n"
     ]
    }
   ],
   "source": [
    "# delete list\n",
    "animals=[\"cat\",\"dog\",\"yazi\",\"mianyang\"]\n",
    "del animals[1]\n",
    "print(animals)"
   ]
  },
  {
   "cell_type": "code",
   "execution_count": 19,
   "id": "hazardous-animal",
   "metadata": {},
   "outputs": [
    {
     "name": "stdout",
     "output_type": "stream",
     "text": [
      "['cat', 'dog', 'yazi']\n",
      "mianyang\n"
     ]
    }
   ],
   "source": [
    "# use .pop(),make lise like Stack\n",
    "animals=[\"cat\",\"dog\",\"yazi\",\"mianyang\"]\n",
    "poped_animals=animals.pop()\n",
    "print(animals)\n",
    "print(poped_animals)"
   ]
  },
  {
   "cell_type": "code",
   "execution_count": 20,
   "id": "lightweight-concentration",
   "metadata": {},
   "outputs": [
    {
     "name": "stdout",
     "output_type": "stream",
     "text": [
      "['cat', 'yazi', 'mianyang']\n"
     ]
    }
   ],
   "source": [
    "# use .remove() to del Specified value,if there have more same value, think to use for loop\n",
    "animals=[\"cat\",\"dog\",\"yazi\",\"mianyang\"]\n",
    "animals.remove(\"dog\")\n",
    "print(animals)"
   ]
  },
  {
   "cell_type": "code",
   "execution_count": 28,
   "id": "empirical-custom",
   "metadata": {},
   "outputs": [
    {
     "name": "stdout",
     "output_type": "stream",
     "text": [
      "['audi', 'bmw', 'subaru', 'toyota']\n",
      "['audi', 'bmw', 'subaru', 'toyota']\n",
      "['bmw', 'audi', 'toyota', 'subaru']\n",
      "['toyota', 'subaru', 'bmw', 'audi']\n",
      "['subaru', 'toyota', 'audi', 'bmw']\n"
     ]
    }
   ],
   "source": [
    "# Permanent sort\n",
    "cars=[\"bmw\",\"audi\",\"toyota\",\"subaru\"]\n",
    "cars.sort()\n",
    "print(cars)\n",
    "# Temporary sort\n",
    "cars=[\"bmw\",\"audi\",\"toyota\",\"subaru\"]\n",
    "print(sorted(cars))\n",
    "print(cars)\n",
    "\n",
    "cars=[\"bmw\",\"audi\",\"toyota\",\"subaru\"]\n",
    "cars.sort(reverse=True) # sort first, then reverse\n",
    "print(cars)\n",
    "\n",
    "cars=[\"bmw\",\"audi\",\"toyota\",\"subaru\"]\n",
    "cars.reverse() # no sort, only reverse\n",
    "print(cars)"
   ]
  },
  {
   "cell_type": "code",
   "execution_count": 32,
   "id": "incoming-wireless",
   "metadata": {},
   "outputs": [
    {
     "name": "stdout",
     "output_type": "stream",
     "text": [
      "one\n",
      "twe\n",
      "three\n",
      "1\n",
      "2\n",
      "3\n",
      "4\n",
      "5\n",
      "numbers: [1, 2, 3, 4, 5]\n",
      "[2, 4, 6, 8, 10]\n"
     ]
    }
   ],
   "source": [
    "values=[\"one\",\"twe\",\"three\"]\n",
    "for value in values:\n",
    "    print(value)\n",
    "for value in range(1,6):\n",
    "    print(value)\n",
    "numbers=list(range(1,6))\n",
    "print(\"numbers:\",numbers)\n",
    "even_numbers=list(range(2,11,2))\n",
    "print(even_numbers)"
   ]
  },
  {
   "cell_type": "code",
   "execution_count": 33,
   "id": "amazing-scratch",
   "metadata": {},
   "outputs": [
    {
     "name": "stdout",
     "output_type": "stream",
     "text": [
      "1 9 45\n"
     ]
    }
   ],
   "source": [
    "digits=[1,2,3,4,5,6,7,8,9]\n",
    "print(min(digits),max(digits),sum(digits))"
   ]
  },
  {
   "cell_type": "code",
   "execution_count": 34,
   "id": "gentle-wright",
   "metadata": {},
   "outputs": [
    {
     "name": "stdout",
     "output_type": "stream",
     "text": [
      "['martina', 'michael', 'florence']\n",
      "['charles', 'martina', 'michael', 'florence']\n",
      "['michael', 'florence', 'eli']\n"
     ]
    }
   ],
   "source": [
    "# 切片 [起始索引:终止索引]\n",
    "players=[\"charles\",\"martina\",\"michael\",\"florence\",\"eli\"]\n",
    "print(players[1:4])\n",
    "print(players[:4])\n",
    "print(players[-3:])"
   ]
  },
  {
   "cell_type": "code",
   "execution_count": 35,
   "id": "outstanding-farmer",
   "metadata": {},
   "outputs": [
    {
     "name": "stdout",
     "output_type": "stream",
     "text": [
      "['charles', 'martina', 'michael', 'florence', 'eli']\n"
     ]
    }
   ],
   "source": [
    "players=[\"charles\",\"martina\",\"michael\",\"florence\",\"eli\"]\n",
    "players_sec=players\n",
    "print(players_sec)"
   ]
  },
  {
   "cell_type": "code",
   "execution_count": 37,
   "id": "invisible-fleet",
   "metadata": {},
   "outputs": [
    {
     "name": "stdout",
     "output_type": "stream",
     "text": [
      "()\n",
      "(1, 2, 3)\n",
      "(1, 'Hello', 3.4)\n",
      "('mouse', [8, 4, 6], (1, 2, 3))\n",
      "(3, 4.6, 'dog')\n",
      "3\n",
      "4.6\n",
      "dog\n"
     ]
    }
   ],
   "source": [
    "# 元组：不可变的列表\n",
    "# Different types of tuples\n",
    "\n",
    "# Empty tuple\n",
    "my_tuple = ()\n",
    "print(my_tuple)\n",
    "\n",
    "# Tuple having integers\n",
    "my_tuple = (1, 2, 3)\n",
    "print(my_tuple)\n",
    "\n",
    "# tuple with mixed datatypes\n",
    "my_tuple = (1, \"Hello\", 3.4)\n",
    "print(my_tuple)\n",
    "\n",
    "# nested tuple\n",
    "my_tuple = (\"mouse\", [8, 4, 6], (1, 2, 3))\n",
    "print(my_tuple)\n",
    "my_tuple = 3, 4.6, \"dog\"\n",
    "print(my_tuple)\n",
    "\n",
    "# tuple unpacking is also possible\n",
    "a, b, c = my_tuple\n",
    "\n",
    "print(a)      # 3\n",
    "print(b)      # 4.6\n",
    "print(c)      # dog"
   ]
  },
  {
   "cell_type": "code",
   "execution_count": 38,
   "id": "behind-adolescent",
   "metadata": {},
   "outputs": [
    {
     "name": "stdout",
     "output_type": "stream",
     "text": [
      "\n"
     ]
    }
   ],
   "source": [
    "age=12\n",
    "if age<4:\n",
    "    print()\n",
    "elif age<18:\n",
    "    print()\n",
    "else :\n",
    "    print()"
   ]
  },
  {
   "cell_type": "code",
   "execution_count": 42,
   "id": "vietnamese-developer",
   "metadata": {},
   "outputs": [
    {
     "name": "stdout",
     "output_type": "stream",
     "text": [
      "{'color': 'green', 'point': 5, 'x_position': 0, 'y_position': 25}\n",
      "{'color': 'green', 'x_position': 0, 'y_position': 25}\n",
      "color green\n",
      "x_position 0\n",
      "y_position 25\n"
     ]
    }
   ],
   "source": [
    "# 字典：键-值对，值可以是list，也可以是字典\n",
    "alien_0={'color':'green','point':5}\n",
    "alien_0['x_position']=0\n",
    "alien_0['y_position']=25\n",
    "print(alien_0)\n",
    "# 删除\n",
    "del alien_0['point']\n",
    "print(alien_0)\n",
    "# 遍历\n",
    "for key,value in alien_0.items():\n",
    "    print(key,value)"
   ]
  },
  {
   "cell_type": "code",
   "execution_count": 44,
   "id": "israeli-haven",
   "metadata": {},
   "outputs": [
    {
     "name": "stdin",
     "output_type": "stream",
     "text": [
      "Tell me test\n"
     ]
    },
    {
     "name": "stdout",
     "output_type": "stream",
     "text": [
      "test\n"
     ]
    }
   ],
   "source": [
    "message=input(\"Tell me\")\n",
    "print(message)"
   ]
  },
  {
   "cell_type": "code",
   "execution_count": 45,
   "id": "specific-vocabulary",
   "metadata": {},
   "outputs": [
    {
     "name": "stdin",
     "output_type": "stream",
     "text": [
      "fsdjhfajksdhflkjashdljkfhsdjklhfjklsdhfkljsdhfjkhsdkljfhsdjkfhkjshf asdlkfj\n"
     ]
    }
   ],
   "source": [
    "prompt=\"fsdjhfajksdhflkjashdljkfhsdjklhfjklsdhfkljsdhfjkhsdkljfhsdjkfhkjshf\"\n",
    "name=input(prompt)"
   ]
  },
  {
   "cell_type": "code",
   "execution_count": null,
   "id": "unsigned-floor",
   "metadata": {},
   "outputs": [],
   "source": []
  }
 ],
 "metadata": {
  "kernelspec": {
   "display_name": "Python 3",
   "language": "python",
   "name": "python3"
  },
  "language_info": {
   "codemirror_mode": {
    "name": "ipython",
    "version": 3
   },
   "file_extension": ".py",
   "mimetype": "text/x-python",
   "name": "python",
   "nbconvert_exporter": "python",
   "pygments_lexer": "ipython3",
   "version": "3.7.3"
  }
 },
 "nbformat": 4,
 "nbformat_minor": 5
}
